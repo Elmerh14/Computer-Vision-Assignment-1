{
 "cells": [
  {
   "cell_type": "markdown",
   "id": "780829f5",
   "metadata": {},
   "source": [
    "# 1\n",
    "\n",
    "Choose an 8-bit colored image and convert it to a grayscale image. Explain your\n",
    "approach and show the input and output image."
   ]
  },
  {
   "cell_type": "code",
   "execution_count": 1,
   "id": "0269d4de",
   "metadata": {},
   "outputs": [],
   "source": [
    "from PIL import Image \n",
    "from tqdm import tqdm\n",
    "import numpy as np"
   ]
  },
  {
   "cell_type": "code",
   "execution_count": null,
   "id": "92885627",
   "metadata": {},
   "outputs": [],
   "source": [
    "# Opening the image and making a copy to not disturb the original\n",
    "\n",
    "img = Image.open(\"8-bit-graphics-pixels-scene-with-village.jpg\")\n",
    "modded = img.copy()\n",
    "modded = modded.convert(\"RGB\")\n",
    "\n",
    "width, height = img.size"
   ]
  },
  {
   "cell_type": "markdown",
   "id": "7d7706f9",
   "metadata": {},
   "source": [
    "So here we made every pixel in range of 0 and 1 for black and white. That is the reason for deviding into 255. We then multiplied with values that influence that specific area for example red with 0.299. Those values make up to 1 to get a gray scale of the image. If higher the image is brighter and if less than 1 the image becomes darker."
   ]
  },
  {
   "cell_type": "code",
   "execution_count": 39,
   "id": "803c13be",
   "metadata": {},
   "outputs": [
    {
     "name": "stderr",
     "output_type": "stream",
     "text": [
      "Processing image: 100%|█████████████████████| 2688/2688 [00:36<00:00, 73.57it/s]\n"
     ]
    }
   ],
   "source": [
    "# Processing each pixel and converting to grayscale\n",
    "\n",
    "for y in tqdm(range(height), desc=\"Processing image\", ncols=80):\n",
    "    for x in range(width):\n",
    "        r, g, b = img.getpixel((x, y))\n",
    "        \n",
    "        r /= 255.0\n",
    "        g /= 255.0\n",
    "        b /= 255.0\n",
    "        \n",
    "        gray = (0.299 * r) + (0.587 * g) + (0.114 * b)\n",
    "        \n",
    "        gray_value = int(gray * 255)\n",
    "\n",
    "        modded.putpixel((x, y), (gray_value, gray_value, gray_value))\n"
   ]
  },
  {
   "cell_type": "code",
   "execution_count": 40,
   "id": "a6ef44fd",
   "metadata": {},
   "outputs": [
    {
     "name": "stdout",
     "output_type": "stream",
     "text": [
      "Finished!\n"
     ]
    }
   ],
   "source": [
    "# Showing the gray image and original\n",
    "\n",
    "print(\"Finished!\")\n",
    "modded.show()\n",
    "img.show()"
   ]
  },
  {
   "cell_type": "markdown",
   "id": "213bcd6c",
   "metadata": {},
   "source": [
    "# 2\n",
    "\n",
    "Add white gaussian noise to the grayscale image. Show the effects of the noise when\n",
    "the standard deviation is 1, 10 and 30 and 50."
   ]
  },
  {
   "cell_type": "code",
   "execution_count": null,
   "id": "1ddbef45",
   "metadata": {},
   "outputs": [],
   "source": [
    "# function to add Gaussian noise to an image\n",
    "def add_gNoise(imgArray, stdDev):\n",
    "    noise = np.random.normal(0, stdDev, imgArray.shape)\n",
    "    noisyImg = np.clip(imgArray + noise, 0, 255)\n",
    "    return noisyImg.astype(np.uint8)"
   ]
  },
  {
   "cell_type": "code",
   "execution_count": null,
   "id": "d51f0254",
   "metadata": {},
   "outputs": [],
   "source": [
    "# Converting the image to a numpy array for processing\n",
    "imgArray = np.array(modded, dtype=float)\n",
    "stdDevs = [1, 10, 30, 50]"
   ]
  },
  {
   "cell_type": "markdown",
   "id": "05fb0c7b",
   "metadata": {},
   "source": [
    "So with helper function addgNoise helps repeat the same process to add the Gaussian white noise but using different standard deviations and seeing different effect of the noise into the gray scale image. The more deviation the more the image is affected with the noise effect."
   ]
  },
  {
   "cell_type": "code",
   "execution_count": null,
   "id": "b7d09325",
   "metadata": {},
   "outputs": [],
   "source": [
    "# Appluing different levels of standard deviation noise and showing the results\n",
    "\n",
    "for std in stdDevs:\n",
    "    noisy = add_gNoise(imgArray, std)\n",
    "    noisyImg = Image.fromarray(noisy)\n",
    "    noisyImg.show()"
   ]
  },
  {
   "cell_type": "code",
   "execution_count": null,
   "id": "f76c133e",
   "metadata": {},
   "outputs": [],
   "source": [
    "# applying 50 standard deviation noise and showing the result\n",
    "\n",
    "noisy = add_gNoise(imgArray, 50)\n",
    "noisyImg = Image.fromarray(noisy)\n",
    "noisyImg.show()"
   ]
  },
  {
   "cell_type": "markdown",
   "id": "c824d072",
   "metadata": {},
   "source": [
    "# 3\n",
    "\n",
    "Add Salt and Pepper noise to 10% and 30% of the pixels in the grayscale image in 1.\n",
    "Salt and Pepper noise is added to an image by adding random bright and random dark\n",
    "pixels all over the image.\n",
    "\n"
   ]
  },
  {
   "cell_type": "markdown",
   "id": "d40f3e8f",
   "metadata": {},
   "source": [
    "I reused the modded image and converted it into an array so that I can use it in the function."
   ]
  },
  {
   "cell_type": "code",
   "execution_count": null,
   "id": "b110127f",
   "metadata": {},
   "outputs": [],
   "source": [
    "# making an array from the modded image again for future use\n",
    "img_array = np.array(modded)"
   ]
  },
  {
   "cell_type": "code",
   "execution_count": null,
   "id": "d0dcfcb5",
   "metadata": {},
   "outputs": [],
   "source": [
    "# function to add Salt and Pepper noise to an image\n",
    "\n",
    "def add_SP_Noise(imgArray, amnt):\n",
    "    noisy = imgArray.copy()\n",
    "    ttl_pxls = imgArray.size \n",
    "    num_noisy = int(ttl_pxls * amnt /2)\n",
    "\n",
    "    coords = []\n",
    "\n",
    "    for i in imgArray.shape:\n",
    "        randomIs = np.random.randint(0, i - 1, num_noisy)\n",
    "        coords.append(randomIs)\n",
    "\n",
    "    noisy[coords[0], coords[1]] = 255\n",
    "\n",
    "    coords = []\n",
    "    for i in imgArray.shape:\n",
    "        randomIs = np.random.randint(0, i - 1, num_noisy)\n",
    "        coords.append(randomIs)\n",
    "\n",
    "    noisy[coords[0], coords[1]] = 0        \n",
    "\n",
    "    return noisy"
   ]
  },
  {
   "cell_type": "markdown",
   "id": "a60cf311",
   "metadata": {},
   "source": [
    "So here we see how much salt and pepper we are going to apply to the picture and we see that 30% adds a good amount of noise into the picture."
   ]
  },
  {
   "cell_type": "code",
   "execution_count": 47,
   "id": "ab1d758a",
   "metadata": {},
   "outputs": [],
   "source": [
    "# 10% noise\n",
    "noisy10 = add_SP_Noise(img_array, 0.10)\n",
    "noisy10_img = Image.fromarray(noisy10)\n",
    "noisy10_img.show()"
   ]
  },
  {
   "cell_type": "code",
   "execution_count": 76,
   "id": "72a63ed2",
   "metadata": {},
   "outputs": [],
   "source": [
    "# 30% noise\n",
    "noisy10 = add_SP_Noise(img_array, 0.30)\n",
    "noisy10_img = Image.fromarray(noisy10)\n",
    "noisy10_img.show()"
   ]
  },
  {
   "cell_type": "markdown",
   "id": "4b07072b",
   "metadata": {},
   "source": [
    "# 4\n",
    "\n",
    "Implement a Box Filter, Median Filter and Gaussian Filter to remove the white gaussian\n",
    "noise with standard deviation 50 and the Salt and Pepper noise at 30%. Let the kernel\n",
    "size be 3 x 3. Explain your choice of other parameters and any non-trivial steps in your\n",
    "implementation (e.g., how did you handle the borders in the image)."
   ]
  },
  {
   "cell_type": "markdown",
   "id": "7c6b88d3",
   "metadata": {},
   "source": [
    "To start we made this function to help fix the border issue and we used an edge method which where the empty locations that are outside of the border copy the values that are closest to that specific edge if that makes sense. "
   ]
  },
  {
   "cell_type": "code",
   "execution_count": null,
   "id": "6e22ae18",
   "metadata": {},
   "outputs": [],
   "source": [
    "# function to pad an array with edge values because of the border issue\n",
    "\n",
    "def pad_reflect(a, r=1):\n",
    "    if a.ndim == 2:\n",
    "        print(2)\n",
    "        return np.pad(a, ((r, r), (r, r)), mode = \"edge\")\n",
    "    elif a.ndim == 3:\n",
    "        print(3)\n",
    "        return np.pad(a, ((r, r), (r, r), (0, 0)), mode = \"edge\")"
   ]
  },
  {
   "cell_type": "code",
   "execution_count": null,
   "id": "3cc31b78",
   "metadata": {},
   "outputs": [],
   "source": [
    "# Setting up the array and applying guassian and salt and pepper noise\n",
    "\n",
    "img_array = np.array(modded)\n",
    "gauss = add_gNoise(img_array, stdDev = 50)\n",
    "sp = add_SP_Noise(img_array, amnt= 0.30)"
   ]
  },
  {
   "cell_type": "markdown",
   "id": "0a96fb41",
   "metadata": {},
   "source": [
    "Work was separated here we started by doing the box filter first 3x3 and applied it to the gaussian noise picture using 50 as std deviation and 30% for the salt and pepper noise picture. I was working on RGB mode and gray scale mode so that is the reason there is the ndim = 2 and ndim = 3 conditional because different things are accounted when looking into the image shape."
   ]
  },
  {
   "cell_type": "code",
   "execution_count": null,
   "id": "d09d9434",
   "metadata": {},
   "outputs": [],
   "source": [
    "# mean box filter 3 x 3\n",
    "def boxF3x3(img):\n",
    "    k = np.ones((3, 3), dtype=float) / 9.0\n",
    "    P = pad_reflect(img, r=1)\n",
    "\n",
    "    if img.ndim == 2:\n",
    "        H, W = img.shape\n",
    "        out = np.empty((H, W), dtype = float)\n",
    "\n",
    "        for y in range(H):\n",
    "            for x in range(W):\n",
    "                out[y, x] = np.sum(P[y:y+3, x:x+3] * k)\n",
    "        return np.clip(out, 0, 255).astype(np.uint8)\n",
    "    elif img.ndim == 3:\n",
    "        H, W, C = img.shape \n",
    "        out = np.empty((H, W, C), dtype=float)\n",
    "\n",
    "        for c in range(C):\n",
    "            for y in range(H):\n",
    "                for x in range(W):\n",
    "                    out[y, x, c] = np.sum(P[y:y+3, x:x+3, c] * k)\n",
    "        return np.clip(out, 0, 255).astype(np.uint8)\n",
    "    else:\n",
    "        print(\"Error\")"
   ]
  },
  {
   "cell_type": "code",
   "execution_count": 62,
   "id": "a90f1d7a",
   "metadata": {},
   "outputs": [
    {
     "name": "stdout",
     "output_type": "stream",
     "text": [
      "3\n",
      "3\n"
     ]
    }
   ],
   "source": [
    "# Applying the box filter to both noisy images 3x3\n",
    "\n",
    "gaussb = boxF3x3(gauss)\n",
    "spb = boxF3x3(sp)"
   ]
  },
  {
   "cell_type": "markdown",
   "id": "99367636",
   "metadata": {},
   "source": [
    "For these results I'm not sure why but I didn't really see a difference in doing the 3x3 box filter on the gaussian noise and salt and pepper pictures. They look the same "
   ]
  },
  {
   "cell_type": "code",
   "execution_count": null,
   "id": "04b9fea7",
   "metadata": {},
   "outputs": [],
   "source": [
    "# converting back to images and showing the results\n",
    "\n",
    "gb_img = Image.fromarray(gaussb)\n",
    "sp_img = Image.fromarray(spb)\n",
    "\n",
    "gb_img.show()\n",
    "sp_img.show()"
   ]
  },
  {
   "cell_type": "markdown",
   "id": "0e3b2aa0",
   "metadata": {},
   "source": [
    "Here is another helper function to do the median filter on both gaussian and salt and pepper noise images. Here I made the images into gray scale mode because when I would do the RGB mode which the picture is in gray scale so it doesn't really matter I switched because RGB mode is way slower because there is more computation to be made which doesn't really matter because the channels are pretty much the same for the R, G, and B."
   ]
  },
  {
   "cell_type": "code",
   "execution_count": 149,
   "id": "ba837839",
   "metadata": {},
   "outputs": [],
   "source": [
    "# median filter 3 x 3\n",
    "\n",
    "def medianF3x3(img, str):\n",
    "    P = pad_reflect(img, r=1)\n",
    "\n",
    "    if img.ndim == 2:\n",
    "        H, W = img.shape\n",
    "        out = np.empty((H, W), dtype = np.uint8)\n",
    "\n",
    "        for y in tqdm(range(H), desc=str, ncols=80):\n",
    "            for x in range(W):\n",
    "                out[y, x] = np.median(P[y:y+3, x:x+3] )\n",
    "\n",
    "        return np.clip(out, 0, 255).astype(np.uint8)\n",
    "    \n",
    "    elif img.ndim == 3:\n",
    "        H, W, C = img.shape \n",
    "        out = np.empty((H, W, C), dtype=np.uint8)\n",
    "\n",
    "        for c in tqdm(range(C), desc=str, ncols=100):\n",
    "            for y in range(H):\n",
    "                for x in range(W):\n",
    "                    out[y, x, c] = np.median(P[y:y+3, x:x+3, c])\n",
    "                    \n",
    "        return np.clip(out, 0, 255).astype(np.uint8)\n",
    "    else:\n",
    "        print(\"Error\")"
   ]
  },
  {
   "cell_type": "code",
   "execution_count": 150,
   "id": "cbbf671a",
   "metadata": {},
   "outputs": [
    {
     "name": "stdout",
     "output_type": "stream",
     "text": [
      "2\n"
     ]
    },
    {
     "name": "stderr",
     "output_type": "stream",
     "text": [
      "Processing Median for Gauss: 100%|██████████| 2688/2688 [03:02<00:00, 14.76it/s]\n"
     ]
    },
    {
     "name": "stdout",
     "output_type": "stream",
     "text": [
      "2\n"
     ]
    },
    {
     "name": "stderr",
     "output_type": "stream",
     "text": [
      "Processing Median for SP: 100%|█████████████| 2688/2688 [03:02<00:00, 14.73it/s]\n"
     ]
    }
   ],
   "source": [
    "# Converted the image into 2D so that it is faster to process since all channels are the same\n",
    "\n",
    "grayg = gauss[..., 0]\n",
    "gaussm = medianF3x3(grayg, \"Processing Median for Gauss: \")\n",
    "\n",
    "grays = sp[..., 0]\n",
    "spm = medianF3x3(grays, \"Processing Median for SP: \")"
   ]
  },
  {
   "cell_type": "markdown",
   "id": "0cdc868d",
   "metadata": {},
   "source": [
    "The end result looked weird I'm not completely sure if this is what I was supposed to get because I thought it was going to remove the noise for the salt and pepper noise image and it didn't really. I guess I might have done something wrong in my logic."
   ]
  },
  {
   "cell_type": "code",
   "execution_count": 151,
   "id": "49529d45",
   "metadata": {},
   "outputs": [],
   "source": [
    "# converting back to images and showing the results\n",
    "\n",
    "gm_img = Image.fromarray(gaussm)\n",
    "spm_img = Image.fromarray(spm)\n",
    "\n",
    "gm_img.show()\n",
    "spm_img.show()"
   ]
  },
  {
   "cell_type": "markdown",
   "id": "5fe8a801",
   "metadata": {},
   "source": [
    "So in these helper functions I only did an implementation to do the Gaussian filter in gray scale mode rather than RGB."
   ]
  },
  {
   "cell_type": "code",
   "execution_count": null,
   "id": "ac815257",
   "metadata": {},
   "outputs": [],
   "source": [
    "# Gaussian Kernel 3 x 3\n",
    "\n",
    "def gK3x3(sigma = 0.85):\n",
    "    ax = np.array([-1, 0, 1], dtype=float)\n",
    "    xx, yy = np.meshgrid(ax, ax)\n",
    "    k = np.exp(-(xx**2 + yy**2) / (2 * sigma**2))\n",
    "    k /= k.sum()\n",
    "    return k"
   ]
  },
  {
   "cell_type": "code",
   "execution_count": null,
   "id": "597b6e5f",
   "metadata": {},
   "outputs": [],
   "source": [
    "# Gaussian Filter 3 x 3\n",
    "\n",
    "def gF3x3(img, sigma = 0.85):\n",
    "    k = gK3x3(sigma)\n",
    "    P = pad_reflect(img, r=1)\n",
    "    H, W = img.shape \n",
    "    out = np.empty((H, W), dtype = float)\n",
    "    for y in range(H):\n",
    "        for x in range(W):\n",
    "            out[y, x] = np.sum(P[y:y+3, x:x+3] * k)\n",
    "    out = np.clip(out, 0, 255).astype(np.uint8)\n",
    "    return out"
   ]
  },
  {
   "cell_type": "code",
   "execution_count": 80,
   "id": "7c33b19c",
   "metadata": {},
   "outputs": [
    {
     "name": "stdout",
     "output_type": "stream",
     "text": [
      "2\n",
      "2\n"
     ]
    }
   ],
   "source": [
    "# Applying Gaussian filter to both noisy images 3x3\n",
    "\n",
    "guass_g = gF3x3(grayg, sigma = 0.85)\n",
    "sp_g = gF3x3(grays, sigma = 0.85)\n",
    "\n",
    "ggf_img = Image.fromarray(guass_g)\n",
    "sgf_img = Image.fromarray(sp_g)\n",
    "\n",
    "ggf_img.show()\n",
    "sgf_img.show()"
   ]
  },
  {
   "cell_type": "markdown",
   "id": "e7242e93",
   "metadata": {},
   "source": [
    "# 5\n",
    "\n",
    "Vary the kernel size to 5 x 5 and 10 x 10 and show its effect on the output image."
   ]
  },
  {
   "cell_type": "markdown",
   "id": "3b8be26e",
   "metadata": {},
   "source": [
    "Here I just did the same thing as previous steps but made the filters modular to accept different sizes of Kernel size. This helps to reuse and redo these things over and over again with different situtaions"
   ]
  },
  {
   "cell_type": "code",
   "execution_count": 131,
   "id": "ac09879d",
   "metadata": {},
   "outputs": [],
   "source": [
    "# Mean Box Filter k x k for reusability on 5x5 and 10x10\n",
    "\n",
    "def boxF(img, kSize, str=\"processing Box Filter\"):\n",
    "    k = np.ones((kSize, kSize), dtype=float) / (kSize * kSize)\n",
    "    r = kSize // 2\n",
    "    P = pad_reflect(img, r=r)\n",
    "\n",
    "    if img.ndim == 2:\n",
    "        H, W = img.shape\n",
    "        out = np.empty((H, W), dtype = float)\n",
    "\n",
    "        for y in tqdm(range(H), desc=str, ncols=80):\n",
    "            for x in range(W):\n",
    "                out[y, x] = np.sum(P[y:y+kSize, x:x+kSize] * k)\n",
    "        return np.clip(out, 0, 255).astype(np.uint8)\n",
    "    elif img.ndim == 3:\n",
    "        H, W, C = img.shape \n",
    "        out = np.empty((H, W, C), dtype=float)\n",
    "        with tqdm(total=H * W * C, desc=str, ncols=100) as pbar:\n",
    "            for c in range(C):\n",
    "                for y in range(H):\n",
    "                    for x in range(W):\n",
    "                        out[y, x, c] = np.sum(P[y:y+kSize, x:x+kSize, c] * k)\n",
    "                        pbar.update(1)\n",
    "        return np.clip(out, 0, 255).astype(np.uint8)\n",
    "    else:\n",
    "        print(\"Error\")"
   ]
  },
  {
   "cell_type": "code",
   "execution_count": 132,
   "id": "0ff2a01d",
   "metadata": {},
   "outputs": [],
   "source": [
    "# Median Filter k x k for reusability on 5x5 and 10x10\n",
    "\n",
    "def medianF(img, kSize, str = \"Processing median\"):\n",
    "    P = pad_reflect(img, r=1)\n",
    "\n",
    "    if img.ndim == 2:\n",
    "        H, W = img.shape\n",
    "        out = np.empty((H, W), dtype = np.uint8)\n",
    "\n",
    "        for y in tqdm(range(H), desc=str, ncols=80):\n",
    "            for x in range(W):\n",
    "                out[y, x] = np.median(P[y:y+kSize, x:x+kSize] )\n",
    "\n",
    "        return np.clip(out, 0, 255).astype(np.uint8)\n",
    "    \n",
    "    elif img.ndim == 3:\n",
    "        H, W, C = img.shape \n",
    "        out = np.empty((H, W, C), dtype=np.uint8)\n",
    "        with tqdm(total=H * W * C, desc=str, ncols=100) as pbar:\n",
    "            for c in range( C):\n",
    "                for y in range(H):\n",
    "                    for x in range(W):\n",
    "                        out[y, x, c] = np.median(P[y:y+kSize, x:x+kSize, c])\n",
    "                        pbar.update(1)\n",
    "                    \n",
    "        return np.clip(out, 0, 255).astype(np.uint8)\n",
    "    else:\n",
    "        print(\"Error\")"
   ]
  },
  {
   "cell_type": "code",
   "execution_count": null,
   "id": "d52fc23d",
   "metadata": {},
   "outputs": [],
   "source": [
    "# Gaussian Kernel k x k for reusability on 5x5 and 10x10\n",
    "\n",
    "def gK(kSize, sigma=1):\n",
    "    assert kSize % 2 == 1 and kSize >= 3\n",
    "    r = kSize // 2\n",
    "    ax = np.arange(-r, r+1, dtype=float)\n",
    "    xx, yy = np.meshgrid(ax, ax)\n",
    "    k = np.exp(-(xx**2 + yy**2) / (2 * sigma**2))\n",
    "    k /= k.sum()\n",
    "    return k, r\n"
   ]
  },
  {
   "cell_type": "code",
   "execution_count": null,
   "id": "391a059b",
   "metadata": {},
   "outputs": [],
   "source": [
    "# Gaussian Filter k x k for reusability on 5x5 and 10x10\n",
    "\n",
    "def gFilter(img, kSize, sigma=1, str = \"Processing Guass: \"):\n",
    "    if kSize % 2 == 0:\n",
    "        kSize += 1 # make it odd if even because of center pixel 10x10 -> 11x11\n",
    "    k, r = gK(kSize, sigma)\n",
    "    r = int(r)\n",
    "    P = pad_reflect(img, r=r)\n",
    "\n",
    "    if img.ndim == 2:\n",
    "        H, W = img.shape\n",
    "        out = np.empty((H, W), dtype=float)\n",
    "        for y in tqdm(range(H), desc=str, ncols=80):\n",
    "            for x in range(W):\n",
    "                out[y, x] = np.sum(P[y:y+kSize, x:x+kSize] * k)\n",
    "        return np.clip(out, 0, 255).astype(np.uint8)\n",
    "    elif img.ndim == 3:\n",
    "        H, W, C = img.shape \n",
    "        out = np.empty((H, W, C), dtype=float)\n",
    "        with tqdm(total=H * W * C, desc=str, ncols=100) as pbar:\n",
    "            for c in range(C):\n",
    "                for y in range(H):\n",
    "                    for x in range(W):\n",
    "                        out[y, x, c] = np.sum(P[y:y+kSize, x:x+kSize, c] * k)\n",
    "                        pbar.update(1)\n",
    "        return np.clip(out, 0, 255).astype(np.uint8)"
   ]
  },
  {
   "cell_type": "code",
   "execution_count": 140,
   "id": "68d1d2fd",
   "metadata": {},
   "outputs": [
    {
     "name": "stdout",
     "output_type": "stream",
     "text": [
      "2\n"
     ]
    },
    {
     "name": "stderr",
     "output_type": "stream",
     "text": [
      "Processing Box: 100%|███████████████████████| 2688/2688 [02:09<00:00, 20.71it/s]\n"
     ]
    },
    {
     "name": "stdout",
     "output_type": "stream",
     "text": [
      "2\n"
     ]
    },
    {
     "name": "stderr",
     "output_type": "stream",
     "text": [
      "Processing median: 100%|████████████████████| 2688/2688 [05:01<00:00,  8.90it/s]\n"
     ]
    },
    {
     "name": "stdout",
     "output_type": "stream",
     "text": [
      "2\n"
     ]
    },
    {
     "name": "stderr",
     "output_type": "stream",
     "text": [
      "Processing Guass: 100%|█████████████████████| 2688/2688 [02:02<00:00, 21.93it/s]\n"
     ]
    },
    {
     "name": "stdout",
     "output_type": "stream",
     "text": [
      "2\n"
     ]
    },
    {
     "name": "stderr",
     "output_type": "stream",
     "text": [
      "Processing Box: 100%|███████████████████████| 2688/2688 [02:07<00:00, 21.01it/s]\n"
     ]
    },
    {
     "name": "stdout",
     "output_type": "stream",
     "text": [
      "2\n"
     ]
    },
    {
     "name": "stderr",
     "output_type": "stream",
     "text": [
      "Processing median: 100%|████████████████████| 2688/2688 [05:37<00:00,  7.96it/s]\n"
     ]
    },
    {
     "name": "stdout",
     "output_type": "stream",
     "text": [
      "2\n"
     ]
    },
    {
     "name": "stderr",
     "output_type": "stream",
     "text": [
      "Processing Guass: 100%|█████████████████████| 2688/2688 [02:04<00:00, 21.60it/s]\n"
     ]
    }
   ],
   "source": [
    "# applying the three filters with kernel sizes of 5 and 10 to the salt and pepper noisy image\n",
    "\n",
    "spR = []\n",
    "sp2d = sp[..., 0]\n",
    "\n",
    "for kS in [5, 10]:\n",
    "    spb = boxF(sp2d, kS, \"Processing Box: \")\n",
    "    spM = medianF(sp2d, kS, \"Processing median: \")\n",
    "    spg = gFilter(sp2d, kS, 1, \"Processing Guass: \")\n",
    "    spR.append((spb, spM, spg))\n"
   ]
  },
  {
   "cell_type": "markdown",
   "id": "5bbcae79",
   "metadata": {},
   "source": [
    "So I was reviewing the output the images and the Box filter and the Gaussian kind of look similar. When I look from afar the Gaussian filter image I can see the picture kind of clear. The picture that removed most of the noise was the median filter for 5x5 and 10x10. I guess the bigger the size of the kernel the more the salt and pepper noise it removes because of the median thing we are doing in that box. I now understand why in the 3x3 the noise wasn't really taken off because the kernel size was too small to actually do an impact of removing the salt and pepper noise. I'm not sure about the other 2 filters how I can reflect and talk about them though. "
   ]
  },
  {
   "cell_type": "code",
   "execution_count": null,
   "id": "77609a26",
   "metadata": {},
   "outputs": [],
   "source": [
    "# showing all the results for 5x5 and 10x10\n",
    "\n",
    "for b, m, g in spR:\n",
    "    b_img = Image.fromarray(b)\n",
    "    m_img = Image.fromarray(m)\n",
    "    g_img = Image.fromarray(g)\n",
    "\n",
    "    b_img.show(title=\"Box Filter\")\n",
    "    m_img.show(title=\"Median Filter\")\n",
    "    g_img.show(title=\"Guassian Filter\")"
   ]
  },
  {
   "cell_type": "code",
   "execution_count": 144,
   "id": "f5a8eb1a",
   "metadata": {},
   "outputs": [
    {
     "name": "stdout",
     "output_type": "stream",
     "text": [
      "2\n"
     ]
    },
    {
     "name": "stderr",
     "output_type": "stream",
     "text": [
      "Processing Box: 100%|███████████████████████| 2688/2688 [01:03<00:00, 42.42it/s]\n"
     ]
    },
    {
     "name": "stdout",
     "output_type": "stream",
     "text": [
      "2\n"
     ]
    },
    {
     "name": "stderr",
     "output_type": "stream",
     "text": [
      "Processing median: 100%|████████████████████| 2688/2688 [03:02<00:00, 14.76it/s]\n"
     ]
    },
    {
     "name": "stdout",
     "output_type": "stream",
     "text": [
      "2\n"
     ]
    },
    {
     "name": "stderr",
     "output_type": "stream",
     "text": [
      "Processing Gauss: 100%|█████████████████████| 2688/2688 [01:08<00:00, 39.20it/s]\n"
     ]
    },
    {
     "name": "stdout",
     "output_type": "stream",
     "text": [
      "2\n"
     ]
    },
    {
     "name": "stderr",
     "output_type": "stream",
     "text": [
      "Processing Box: 100%|███████████████████████| 2688/2688 [01:08<00:00, 39.22it/s]\n"
     ]
    },
    {
     "name": "stdout",
     "output_type": "stream",
     "text": [
      "2\n"
     ]
    },
    {
     "name": "stderr",
     "output_type": "stream",
     "text": [
      "Processing median: 100%|████████████████████| 2688/2688 [03:30<00:00, 12.78it/s]\n"
     ]
    },
    {
     "name": "stdout",
     "output_type": "stream",
     "text": [
      "2\n"
     ]
    },
    {
     "name": "stderr",
     "output_type": "stream",
     "text": [
      "Processing Gauss: 100%|█████████████████████| 2688/2688 [01:08<00:00, 39.16it/s]\n"
     ]
    }
   ],
   "source": [
    "# applying the three filters with kernel sizes of 5 and 10 to the Gaussian noisy image\n",
    "\n",
    "gR = []\n",
    "gauss2d = gauss[..., 0]\n",
    "for kS in [5, 10]:\n",
    "    gb = boxF(gauss2d, kS, \"Processing Box: \")\n",
    "    gM = medianF(gauss2d, kS, \"Processing median: \")\n",
    "    gg = gFilter(gauss2d, kS, 1, \"Processing Gauss: \")\n",
    "    gR.append((gb, gM, gg))"
   ]
  },
  {
   "cell_type": "markdown",
   "id": "56f8b184",
   "metadata": {},
   "source": [
    "To be honest I'm not sure if i did something wrong here too. I feel like all the picture here in the Gaussian noise using all three filters look the same. It looks like using different kernel sizes don't really matter. I mean if I reflect from these images and the one we used in step 4 they do look different because in step 4 I remember seeing like small specs of some like rgb noise but in these new images I don't see that noise anymore rather than black and white noise specifically black noise in the pictures."
   ]
  },
  {
   "cell_type": "code",
   "execution_count": 154,
   "id": "5f7108c2",
   "metadata": {},
   "outputs": [],
   "source": [
    "# showing all the results for 5x5 and 10x10\n",
    "\n",
    "for b, m, g in gR:\n",
    "    b_img = Image.fromarray(b)\n",
    "    m_img = Image.fromarray(m)\n",
    "    g_img = Image.fromarray(g)\n",
    "\n",
    "    b_img.show(title=\"Box Filter\")\n",
    "    m_img.show(title=\"Median Filter\")\n",
    "    g_img.show(title=\"Guassian Filter\")"
   ]
  }
 ],
 "metadata": {
  "kernelspec": {
   "display_name": "Python 3",
   "language": "python",
   "name": "python3"
  },
  "language_info": {
   "codemirror_mode": {
    "name": "ipython",
    "version": 3
   },
   "file_extension": ".py",
   "mimetype": "text/x-python",
   "name": "python",
   "nbconvert_exporter": "python",
   "pygments_lexer": "ipython3",
   "version": "3.13.7"
  }
 },
 "nbformat": 4,
 "nbformat_minor": 5
}
